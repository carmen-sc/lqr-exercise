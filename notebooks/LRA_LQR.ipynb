{
 "cells": [
  {
   "cell_type": "markdown",
   "metadata": {
    "tags": [
     "skip"
    ]
   },
   "source": [
    "# Data Collection\n",
    "\n",
    "\n",
    "Here you are asked to collect data to then guess the model of the Duckiebot\n"
   ]
  },
  {
   "cell_type": "code",
   "execution_count": 3,
   "metadata": {
    "tags": [
     "skip"
    ]
   },
   "outputs": [
    {
     "name": "stderr",
     "output_type": "stream",
     "text": [
      "INFO:typing:version: 6.1.8\n",
      "DEBUG:duckietown_world:duckietown-world version 6.1.3 path /home/viciopoli/.local/lib/python3.8/site-packages\n",
      "INFO:geometry:version: 2.0.5\n",
      "DEBUG:gym-duckietown:gym-duckietown version 6.1.1 path /home/viciopoli/Desktop/DuckietownTA/test/lqr-exercise/notebooks/simulator/src\n",
      "\n"
     ]
    }
   ],
   "source": [
    "from lraClass import LRA2_HELPER\n",
    "\n",
    "import time\n",
    "import sys\n",
    "import argparse\n",
    "import math\n",
    "import numpy as np\n",
    "import gym\n",
    "from simulator.src.gym_duckietown.simulator import Simulator\n"
   ]
  },
  {
   "cell_type": "markdown",
   "metadata": {
    "tags": [
     "skip"
    ]
   },
   "source": [
    "Enviroment initialization"
   ]
  },
  {
   "cell_type": "code",
   "execution_count": 4,
   "metadata": {
    "scrolled": true,
    "tags": [
     "skip"
    ]
   },
   "outputs": [
    {
     "name": "stderr",
     "output_type": "stream",
     "text": [
      "INFO:gym-duckietown:Information about the graphics card:\n",
      " \u001b[2minformation\u001b[0m: \u001b[38;5;75mdict\u001b[0m[4]\n",
      "              \u001b[38;5;75m│ \u001b[0m\u001b[33mvendor\u001b[0m: \u001b[38;5;127mNVIDIA Corporation\u001b[0m\n",
      "              \u001b[38;5;75m│ \u001b[0m\u001b[33mrenderer\u001b[0m: \u001b[38;5;127mGeForce GTX 1050/PCIe/SSE2\u001b[0m\n",
      "              \u001b[38;5;75m│ \u001b[0m\u001b[33mversion\u001b[0m: \u001b[38;5;127m4.6.0 NVIDIA 435.21\u001b[0m\n",
      "              \u001b[38;5;75m│ \u001b[0m\u001b[33mshading-language-version\u001b[0m: \u001b[38;5;127m4.60 NVIDIA\u001b[0m\n",
      "INFO:duckietown_world: \u001b[2mdata\u001b[0m: \u001b[38;5;127m/home/viciopoli/.local/lib/python3.8/site-packages/duckietown_world/data\u001b[0m\n",
      "DEBUG:gym-duckietown:loading map file \"/home/viciopoli/.local/lib/python3.8/site-packages/duckietown_world/data/gd1/maps/udem1.yaml\"\n",
      "INFO:gym-duckietown:done\n",
      "DEBUG:gym-duckietown:loading mesh 'duckiebot' from file_path '/home/viciopoli/.local/lib/python3.8/site-packages/duckietown_world/data/gd1/meshes/duckiebot/duckiebot.obj'\n",
      "DEBUG:gym-duckietown:loading materials from /home/viciopoli/.local/lib/python3.8/site-packages/duckietown_world/data/gd1/meshes/duckiebot/duckiebot.mtl\n",
      "DEBUG:gym-duckietown:loading texture: /home/viciopoli/.local/lib/python3.8/site-packages/duckietown_world/data/gd1/meshes/duckiebot/circlegrid-square.jpg\n",
      "DEBUG:gym-duckietown:loading texture: /home/viciopoli/.local/lib/python3.8/site-packages/duckietown_world/data/gd1/meshes/duckie/duckie.png\n",
      "DEBUG:gym-duckietown:loading mesh 'tree' from file_path '/home/viciopoli/.local/lib/python3.8/site-packages/duckietown_world/data/gd1/meshes/tree/tree.obj'\n",
      "DEBUG:gym-duckietown:loading materials from /home/viciopoli/.local/lib/python3.8/site-packages/duckietown_world/data/gd1/meshes/tree/tree.mtl\n",
      "DEBUG:gym-duckietown:loading mesh 'duckie' from file_path '/home/viciopoli/.local/lib/python3.8/site-packages/duckietown_world/data/gd1/meshes/duckie/duckie.obj'\n",
      "DEBUG:gym-duckietown:loading mesh 'sign_generic' from file_path '/home/viciopoli/.local/lib/python3.8/site-packages/duckietown_world/data/gd1/meshes/signs/sign_generic/sign_generic.obj'\n",
      "DEBUG:gym-duckietown:loading materials from /home/viciopoli/.local/lib/python3.8/site-packages/duckietown_world/data/gd1/meshes/signs/sign_generic/sign_generic.mtl\n",
      "DEBUG:gym-duckietown:loading texture: /home/viciopoli/.local/lib/python3.8/site-packages/duckietown_world/data/gd1/meshes/signs/sign_stop/sign_stop.png\n",
      "DEBUG:gym-duckietown:loading texture: /home/viciopoli/.local/lib/python3.8/site-packages/duckietown_world/data/gd1/meshes/signs/wood_osb.jpg\n",
      "DEBUG:gym-duckietown:loading mesh 'sign_generic' from file_path '/home/viciopoli/.local/lib/python3.8/site-packages/duckietown_world/data/gd1/meshes/signs/sign_generic/sign_generic.obj'\n",
      "DEBUG:gym-duckietown:loading materials from /home/viciopoli/.local/lib/python3.8/site-packages/duckietown_world/data/gd1/meshes/signs/sign_generic/sign_generic.mtl\n",
      "DEBUG:gym-duckietown:loading texture: /home/viciopoli/.local/lib/python3.8/site-packages/duckietown_world/data/gd1/meshes/signs/sign_left_T_intersect/sign_left_T_intersect.png\n",
      "DEBUG:gym-duckietown:loading mesh 'sign_generic' from file_path '/home/viciopoli/.local/lib/python3.8/site-packages/duckietown_world/data/gd1/meshes/signs/sign_generic/sign_generic.obj'\n",
      "DEBUG:gym-duckietown:loading materials from /home/viciopoli/.local/lib/python3.8/site-packages/duckietown_world/data/gd1/meshes/signs/sign_generic/sign_generic.mtl\n",
      "DEBUG:gym-duckietown:loading texture: /home/viciopoli/.local/lib/python3.8/site-packages/duckietown_world/data/gd1/meshes/signs/sign_right_T_intersect/sign_right_T_intersect.png\n",
      "DEBUG:gym-duckietown:loading mesh 'sign_generic' from file_path '/home/viciopoli/.local/lib/python3.8/site-packages/duckietown_world/data/gd1/meshes/signs/sign_generic/sign_generic.obj'\n",
      "DEBUG:gym-duckietown:loading materials from /home/viciopoli/.local/lib/python3.8/site-packages/duckietown_world/data/gd1/meshes/signs/sign_generic/sign_generic.mtl\n",
      "DEBUG:gym-duckietown:loading texture: /home/viciopoli/.local/lib/python3.8/site-packages/duckietown_world/data/gd1/meshes/signs/sign_T_intersect/sign_T_intersect.png\n",
      "DEBUG:gym-duckietown:loading mesh 'house' from file_path '/home/viciopoli/.local/lib/python3.8/site-packages/duckietown_world/data/gd1/meshes/house/house.obj'\n",
      "DEBUG:gym-duckietown:loading materials from /home/viciopoli/.local/lib/python3.8/site-packages/duckietown_world/data/gd1/meshes/house/house.mtl\n",
      "DEBUG:gym-duckietown:loading texture: /home/viciopoli/.local/lib/python3.8/site-packages/duckietown_world/data/gd1/meshes/house/house.png\n",
      "DEBUG:gym-duckietown:loading mesh 'truck' from file_path '/home/viciopoli/.local/lib/python3.8/site-packages/duckietown_world/data/gd1/meshes/truck/truck.obj'\n",
      "DEBUG:gym-duckietown:loading texture: /home/viciopoli/.local/lib/python3.8/site-packages/duckietown_world/data/gd1/meshes/truck/truck.png\n",
      "DEBUG:gym-duckietown:loading mesh 'bus' from file_path '/home/viciopoli/.local/lib/python3.8/site-packages/duckietown_world/data/gd1/meshes/bus/bus.obj'\n",
      "DEBUG:gym-duckietown:loading texture: /home/viciopoli/.local/lib/python3.8/site-packages/duckietown_world/data/gd1/meshes/bus/bus.png\n",
      "INFO:gym-duckietown: \u001b[2mlight_pos\u001b[0m: \u001b[38;5;75m[\u001b[0m\u001b[38;5;198m0.0\u001b[0m\u001b[38;5;75m,\u001b[0m \u001b[38;5;198m3.0\u001b[0m\u001b[38;5;75m,\u001b[0m \u001b[38;5;198m0.0\u001b[0m\u001b[38;5;75m,\u001b[0m \u001b[38;5;198m1.0\u001b[0m\u001b[38;5;75m]\u001b[0m\n",
      " \u001b[2mambient\u001b[0m: instance of ndarray: array([0.25, 0.25, 0.25, 1.  ])\n",
      " \u001b[2mdiffuse\u001b[0m: instance of ndarray: array([0.35, 0.35, 0.35, 1.  ])\n",
      " \u001b[2mspecular\u001b[0m: instance of ndarray: array([0., 0., 0., 1.])\n",
      "DEBUG:gym-duckietown:loading texture: /home/viciopoli/.local/lib/python3.8/site-packages/duckietown_world/data/gd1/textures/tiles-processed/photos/floor/texture.jpg\n",
      "DEBUG:gym-duckietown:loading texture: /home/viciopoli/.local/lib/python3.8/site-packages/duckietown_world/data/gd1/textures/tiles-processed/photos/curve_left/texture.jpg\n",
      "DEBUG:gym-duckietown:loading texture: /home/viciopoli/.local/lib/python3.8/site-packages/duckietown_world/data/gd1/textures/tiles-processed/photos/straight/texture.jpg\n",
      "DEBUG:gym-duckietown:loading texture: /home/viciopoli/.local/lib/python3.8/site-packages/duckietown_world/data/gd1/textures/tiles-processed/photos/3way_left/texture.jpg\n",
      "DEBUG:gym-duckietown:loading texture: /home/viciopoli/.local/lib/python3.8/site-packages/duckietown_world/data/gd1/textures/tiles-processed/photos/asphalt/texture.jpg\n",
      "DEBUG:gym-duckietown:loading texture: /home/viciopoli/.local/lib/python3.8/site-packages/duckietown_world/data/gd1/textures/tiles-processed/photos/grass/texture.jpg\n",
      "DEBUG:gym-duckietown:loading texture: /home/viciopoli/.local/lib/python3.8/site-packages/duckietown_world/data/gd1/textures/tiles-processed/photos/curve_right/texture.jpg\n",
      "DEBUG:gym-duckietown:[2.36089709 0.         1.30652291] corresponds to tile at (4, 2) which is not drivable: {'coords': (4, 2), 'kind': 'asphalt', 'angle': 1, 'drivable': False, 'texture': <simulator.src.gym_duckietown.graphics.Texture object at 0x7f36f27f33a0>, 'color': array([1, 1, 1, 1])}\n",
      "DEBUG:gym-duckietown:Invalid pose. Collision free: False On drivable area: False\n",
      "DEBUG:gym-duckietown:safety_factor: 1.3\n",
      "DEBUG:gym-duckietown:pos: [2.28269853 0.         1.24828859]\n",
      "DEBUG:gym-duckietown:l_pos: [2.20449997 0.         1.19005428]\n",
      "DEBUG:gym-duckietown:r_pos: [2.36089709 0.         1.30652291]\n",
      "DEBUG:gym-duckietown:f_pos: [2.35257971 0.         1.15445032]\n",
      "INFO:gym-duckietown:Starting at [2.1503001  0.         1.25361963] 1.1983719133718806\n",
      "/home/viciopoli/.local/lib/python3.8/site-packages/gym/logger.py:30: UserWarning: \u001b[33mWARN: Trying to monitor an environment which has no 'spec' set. This usually means you did not create it via 'gym.make', and is recommended only for advanced users.\u001b[0m\n",
      "  warnings.warn(colorize('%s: %s'%('WARN', msg % args), 'yellow'))\n",
      "INFO:gym-duckietown: \u001b[2mlight_pos\u001b[0m: \u001b[38;5;75m[\u001b[0m\u001b[38;5;198m0.0\u001b[0m\u001b[38;5;75m,\u001b[0m \u001b[38;5;198m3.0\u001b[0m\u001b[38;5;75m,\u001b[0m \u001b[38;5;198m0.0\u001b[0m\u001b[38;5;75m,\u001b[0m \u001b[38;5;198m1.0\u001b[0m\u001b[38;5;75m]\u001b[0m\n",
      " \u001b[2mambient\u001b[0m: instance of ndarray: array([0.25, 0.25, 0.25, 1.  ])\n",
      " \u001b[2mdiffuse\u001b[0m: instance of ndarray: array([0.35, 0.35, 0.35, 1.  ])\n",
      " \u001b[2mspecular\u001b[0m: instance of ndarray: array([0., 0., 0., 1.])\n",
      "INFO:gym-duckietown:Starting at [3.61384663 0.         2.31027198] 4.775525550456652\n"
     ]
    },
    {
     "data": {
      "text/plain": [
       "array([[[115, 209, 255],\n",
       "        [115, 209, 255],\n",
       "        [115, 209, 255],\n",
       "        ...,\n",
       "        [115, 209, 255],\n",
       "        [115, 209, 255],\n",
       "        [115, 209, 255]],\n",
       "\n",
       "       [[115, 209, 255],\n",
       "        [115, 209, 255],\n",
       "        [115, 209, 255],\n",
       "        ...,\n",
       "        [115, 209, 255],\n",
       "        [115, 209, 255],\n",
       "        [115, 209, 255]],\n",
       "\n",
       "       [[115, 209, 255],\n",
       "        [115, 209, 255],\n",
       "        [115, 209, 255],\n",
       "        ...,\n",
       "        [115, 209, 255],\n",
       "        [115, 209, 255],\n",
       "        [115, 209, 255]],\n",
       "\n",
       "       ...,\n",
       "\n",
       "       [[ 43,  40,  34],\n",
       "        [ 44,  42,  36],\n",
       "        [ 45,  42,  37],\n",
       "        ...,\n",
       "        [ 39,  35,  30],\n",
       "        [ 41,  37,  32],\n",
       "        [ 42,  38,  33]],\n",
       "\n",
       "       [[ 42,  40,  34],\n",
       "        [ 43,  40,  35],\n",
       "        [ 43,  41,  35],\n",
       "        ...,\n",
       "        [ 41,  37,  32],\n",
       "        [ 43,  39,  34],\n",
       "        [ 45,  41,  36]],\n",
       "\n",
       "       [[ 41,  38,  33],\n",
       "        [ 41,  39,  33],\n",
       "        [ 42,  39,  34],\n",
       "        ...,\n",
       "        [ 42,  38,  33],\n",
       "        [ 44,  40,  35],\n",
       "        [ 46,  42,  37]]], dtype=uint8)"
      ]
     },
     "execution_count": 4,
     "metadata": {},
     "output_type": "execute_result"
    }
   ],
   "source": [
    "lra = LRA2_HELPER()\n",
    "\n",
    "\n",
    "env = Simulator(\n",
    "    map_name = \"udem1\",\n",
    "    domain_rand = False,\n",
    "    draw_bbox = False\n",
    ")\n",
    "\n",
    "env = lra.wrapEnv(env)\n",
    "\n",
    "env.reset()\n"
   ]
  },
  {
   "cell_type": "markdown",
   "metadata": {
    "tags": [
     "skip"
    ]
   },
   "source": [
    "Simulate the environment. Here you can collect the state and the control inputs.\n",
    "\n",
    "In the Duckietown environment the control input **_u_** is the steering angle, while the state **_X_** is represented by the distance from the center of the lane and the angle from the straight as shown in the image below\n",
    "\n",
    "![controls](assets/control_model.png)\n",
    "\n"
   ]
  },
  {
   "cell_type": "code",
   "execution_count": null,
   "metadata": {
    "tags": [
     "skip"
    ]
   },
   "outputs": [],
   "source": [
    "\n",
    "#\n",
    "#   Simulate the environment with a PID controller \n",
    "#\n",
    "speed = 0.2\n",
    "while True:\n",
    "    lane_pose = env.get_lane_pos2(env.cur_pos, env.cur_angle)\n",
    "    distance_to_road_center = lane_pose.dist\n",
    "    angle_from_straight_in_rads = lane_pose.angle_rad\n",
    "\n",
    "    k_p = 10\n",
    "    k_d = 1\n",
    "\n",
    "    X = [distance_to_road_center, angle_from_straight_in_rads]\n",
    "    steering =  k_p * distance_to_road_center + k_d * angle_from_straight_in_rads\n",
    "\n",
    "    ### YOUR CODE HERE\n",
    "    ### Collect the data here using the lra class\n",
    "\n",
    "    obs, reward, done, info = env.step([speed, steering])\n",
    "\n",
    "    #print('Steps = %s' % (env.step_count))\n",
    "\n",
    "    \n",
    "\n",
    "    if done:\n",
    "        if reward < 0:\n",
    "            print('*** CRASHED ***')\n",
    "        break\n",
    "\n",
    "\n",
    "### Don't forget to save the data!\n",
    "\n",
    "env.close()\n",
    "\n",
    "lra.renderEnv(env)"
   ]
  },
  {
   "cell_type": "markdown",
   "metadata": {
    "tags": [
     "skip"
    ]
   },
   "source": [
    "In the cell below run a random controll inputs and collect the data as in the previous exercise "
   ]
  },
  {
   "cell_type": "code",
   "execution_count": null,
   "metadata": {
    "tags": [
     "skip"
    ]
   },
   "outputs": [],
   "source": [
    "\n",
    "#\n",
    "#   Simulate the environment with a random controller \n",
    "#\n",
    "speed = 0.2\n",
    "while True:\n",
    "    lane_pose = env.get_lane_pos2(env.cur_pos, env.cur_angle)\n",
    "    distance_to_road_center = lane_pose.dist\n",
    "    angle_from_straight_in_rads = lane_pose.angle_rad\n",
    "\n",
    "    X = [distance_to_road_center, angle_from_straight_in_rads]\n",
    "\n",
    "    ### YOUR CODE HERE\n",
    "    ### Collect the data here using the lra class\n",
    "    steering = \n",
    "\n",
    "\n",
    "    obs, reward, done, info = env.step([speed, steering])\n",
    "\n",
    "    #print('Steps = %s' % (env.step_count))\n",
    "\n",
    "    \n",
    "\n",
    "    if done:\n",
    "        if reward < 0:\n",
    "            print('*** CRASHED ***')\n",
    "        break\n",
    "\n",
    "\n",
    "### Don't forget to save the data!\n",
    "\n",
    "env.close()\n",
    "\n",
    "lra.renderEnv(env)"
   ]
  },
  {
   "cell_type": "markdown",
   "metadata": {
    "tags": [
     "skip"
    ]
   },
   "source": [
    "# Model estimation and Data cleaning\n"
   ]
  },
  {
   "cell_type": "code",
   "execution_count": null,
   "metadata": {
    "tags": [
     "skip"
    ]
   },
   "outputs": [],
   "source": [
    "from sklearn.linear_model import Ridge\n",
    "import pandas as pd"
   ]
  },
  {
   "cell_type": "markdown",
   "metadata": {
    "tags": [
     "skip"
    ]
   },
   "source": [
    "You are asked to estimate the dynamics model of a Duckiebot. We can approximate the dynamics of a Duckiebot with a linear system:\n",
    "\n",
    "$$\n",
    "x(t+1) = A \\cdot x(t) + B \\cdot u(t)\n",
    "$$\n",
    "\n",
    "\n",
    "The goal here is to guess the values of the matrices A and B.\n",
    "\n",
    "_Hint: linear regression problem_\n"
   ]
  },
  {
   "cell_type": "markdown",
   "metadata": {
    "tags": [
     "skip"
    ]
   },
   "source": [
    "Divide your dataset in test and training:"
   ]
  },
  {
   "cell_type": "code",
   "execution_count": null,
   "metadata": {
    "tags": [
     "skip"
    ]
   },
   "outputs": [],
   "source": [
    "### Clean the data before splitting the dataset\n",
    "\n",
    "data = lra.loadData(\"model_data.csv\")\n",
    "\n"
   ]
  },
  {
   "cell_type": "markdown",
   "metadata": {
    "tags": [
     "skip"
    ]
   },
   "source": [
    "Train the linear model on the train set:"
   ]
  },
  {
   "cell_type": "code",
   "execution_count": null,
   "metadata": {
    "tags": [
     "skip"
    ]
   },
   "outputs": [],
   "source": [
    "\n",
    "\n",
    "##  YOR CODE HERE\n",
    "\n"
   ]
  },
  {
   "cell_type": "markdown",
   "metadata": {
    "tags": [
     "skip"
    ]
   },
   "source": [
    "Check how good is the model you got according to your test set."
   ]
  },
  {
   "cell_type": "code",
   "execution_count": null,
   "metadata": {
    "tags": [
     "skip"
    ]
   },
   "outputs": [],
   "source": []
  },
  {
   "cell_type": "markdown",
   "metadata": {
    "tags": [
     "skip"
    ]
   },
   "source": [
    "# LQR design\n",
    "\n",
    "Change the **_A_** and **_B_** matrices with the model you found the previous section. Then try to tune the **_Q_** and **_R_** matrices in order to have good driving performance."
   ]
  },
  {
   "cell_type": "markdown",
   "metadata": {
    "tags": [
     "skip"
    ]
   },
   "source": [
    "The function LQRGain returns the **_K_** gain needed to realize the state feedback controller.\n",
    "\n",
    "$\\color{red}{\\text{DO NOT CHANGE THE NAME OF THIS FUNCTION.}}$\n"
   ]
  },
  {
   "cell_type": "code",
   "execution_count": null,
   "metadata": {},
   "outputs": [],
   "source": [
    "\n",
    "#\n",
    "#   Find the state feedback control gain\n",
    "#\n",
    "def LQRGain():\n",
    "    from lraClass import LRA2_HELPER\n",
    "    import numpy as np\n",
    "    \n",
    "    lra = LRA2_HELPER()\n",
    "\n",
    "    ### Write the A and B matrices you found in the previous section.\n",
    "    A = np.array([[0.0, 0.0 ],\n",
    "            [0.0, 0.0 ]])\n",
    "\n",
    "    B = np.array([[0.0, 0.0]]).T\n",
    "\n",
    "    Q = np.array([[0.0, 0.0], [0.0, 0.0]])\n",
    "    R = np.array([[0.0]])\n",
    "\n",
    "\n",
    "    # Solve Algebric Riccati Equation\n",
    "    S = lra.solveRiccati(A,B,Q,R)\n",
    "\n",
    "    # find the gain K\n",
    "    K = \n",
    "\n",
    "    return K\n"
   ]
  },
  {
   "cell_type": "code",
   "execution_count": null,
   "metadata": {
    "scrolled": true,
    "tags": [
     "skip"
    ]
   },
   "outputs": [],
   "source": [
    "\n",
    "speed=0.2\n",
    "\n",
    "\n",
    "K=LQRGain()\n",
    "\n",
    "env = lra.wrapEnv(env)\n",
    "env.reset()\n",
    "\n",
    "#\n",
    "#   Simulate the environment\n",
    "#\n",
    "while True:\n",
    "    lane_pose = env.get_lane_pos2(env.cur_pos, env.cur_angle)\n",
    "    distance_to_road_center = lane_pose.dist\n",
    "    angle_from_straight_in_rads = lane_pose.angle_rad\n",
    "\n",
    "    X = [distance_to_road_center, angle_from_straight_in_rads]\n",
    "\n",
    "    # YOUR CODE HERE\n",
    "    # find the steering using the gain you found.\n",
    "    steering = \n",
    "    \n",
    "    obs, reward, done, info = env.step([speed, steering])\n",
    "\n",
    "    #print('Steps = %s' % (env.step_count))\n",
    "\n",
    "    if done:\n",
    "        if reward < 0:\n",
    "            print('*** CRASHED ***')\n",
    "        break\n",
    "\n",
    "env.close()\n",
    "\n",
    "lra.renderEnv(env)"
   ]
  }
 ],
 "metadata": {
  "kernelspec": {
   "display_name": "Python 3",
   "language": "python",
   "name": "python3"
  },
  "language_info": {
   "codemirror_mode": {
    "name": "ipython",
    "version": 3
   },
   "file_extension": ".py",
   "mimetype": "text/x-python",
   "name": "python",
   "nbconvert_exporter": "python",
   "pygments_lexer": "ipython3",
   "version": "3.8.5"
  }
 },
 "nbformat": 4,
 "nbformat_minor": 2
}
